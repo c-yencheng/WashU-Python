{
 "cells": [
  {
   "cell_type": "markdown",
   "metadata": {},
   "source": [
    "# Conditionals\n",
    "\n",
    "Check if the x is perfect square.  If it is, print \"x is a perfect square\".  If not print \"x is not a perfect square\"."
   ]
  },
  {
   "cell_type": "code",
   "execution_count": 24,
   "metadata": {},
   "outputs": [
    {
     "name": "stdout",
     "output_type": "stream",
     "text": [
      "x is a perfect square\n"
     ]
    }
   ],
   "source": [
    "#Write your code here\n",
    "import math \n",
    "\n",
    "x = 25\n",
    "\n",
    "if math.sqrt(x) %1 ==0:\n",
    "    print(\"x is a perfect square\")\n",
    "else:\n",
    "    print(\"x is not a perfect square\")"
   ]
  },
  {
   "cell_type": "markdown",
   "metadata": {},
   "source": [
    "Create a list L of arbitrary length. Get the median.\n"
   ]
  },
  {
   "cell_type": "code",
   "execution_count": 17,
   "metadata": {},
   "outputs": [
    {
     "name": "stdout",
     "output_type": "stream",
     "text": [
      "The median is 12\n"
     ]
    }
   ],
   "source": [
    "#Write your code here\n",
    "L = [213, 123, 21, 2, 12, 11, 7]\n",
    "\n",
    "import statistics\n",
    "\n",
    "print(\"The median is \"+str(statistics.median(L)))\n"
   ]
  },
  {
   "cell_type": "markdown",
   "metadata": {},
   "source": [
    "If there are fewer than 10 students in the class, then the top three students get an  A and the rest get a B.  Otherwise, the grade breakdown is as follows:\n",
    "\n",
    "- A: 90-100\n",
    "- B: 80-89\n",
    "- C: 70 - 79\n",
    "- D: 65 - 69\n",
    "- Failing: Below 65\n",
    "\n",
    "Given the list of grades in grades_list, print the grade received by the last student in this list. So if we have\n",
    "\n",
    "    grade_list = [50, 90, 91, 88, 75]\n",
    "\n",
    "we want to print the grade received by the student who received a 75. In this case it would be a B.\n",
    "\n"
   ]
  },
  {
   "cell_type": "code",
   "execution_count": 17,
   "metadata": {},
   "outputs": [
    {
     "name": "stdout",
     "output_type": "stream",
     "text": [
      "50 , Failing\n",
      "90 , A\n",
      "91 , A\n",
      "88 , B\n",
      "75 , C\n"
     ]
    }
   ],
   "source": [
    "#Write your code here\n",
    "grade_list = [50, 90, 91, 88, 75]\n",
    "\n",
    "for g in grade_list:\n",
    "    if g>=90:\n",
    "        print(str(g),\", A\")\n",
    "    elif g>=80:\n",
    "        print(str(g),\", B\")\n",
    "    elif g>=70:\n",
    "        print(str(g),\", C\")\n",
    "    elif g>=60:\n",
    "        print(str(g),\", D\")\n",
    "    else:\n",
    "        print(str(g),\", Failing\")"
   ]
  },
  {
   "cell_type": "markdown",
   "metadata": {},
   "source": [
    "# For Loops\n",
    "\n",
    "Count the number of n's in your name (lower and uppercase count)"
   ]
  },
  {
   "cell_type": "code",
   "execution_count": 20,
   "metadata": {},
   "outputs": [
    {
     "name": "stdout",
     "output_type": "stream",
     "text": [
      "There are 4 n's\n"
     ]
    }
   ],
   "source": [
    "#Write your code here\n",
    "name = \"Washington University in St. Louis\"\n",
    "a=0\n",
    "\n",
    "for i in name:\n",
    "    if i==\"n\":\n",
    "        a += 1\n",
    "        \n",
    "print(\"There are \"+str(a)+\" n's\")\n",
    "        \n"
   ]
  },
  {
   "cell_type": "markdown",
   "metadata": {},
   "source": [
    "Get all of the factors of a number and store them in a list"
   ]
  },
  {
   "cell_type": "code",
   "execution_count": 31,
   "metadata": {},
   "outputs": [
    {
     "name": "stdout",
     "output_type": "stream",
     "text": [
      "[1, 2, 3, 6]\n"
     ]
    }
   ],
   "source": [
    "#Write your code here\n",
    "n = 6 # [1, 2, 3, 6]\n",
    "l=[]\n",
    "for i in range(1,n+1):\n",
    "    if n%i ==0:\n",
    "        l.append(i)\n",
    "        \n",
    "print(l)"
   ]
  },
  {
   "cell_type": "markdown",
   "metadata": {},
   "source": [
    "Generate the first N numbers of the Fibonacci sequence where \n",
    "\n",
    "$a_0 = 1$\n",
    "\n",
    "$a_1=1$\n",
    "\n",
    "$a_n = a_{n-1} + a_{n-2}$"
   ]
  },
  {
   "cell_type": "code",
   "execution_count": 34,
   "metadata": {},
   "outputs": [
    {
     "name": "stdout",
     "output_type": "stream",
     "text": [
      "[1, 1, 2, 3, 5, 8, 13, 21, 34, 55]\n"
     ]
    }
   ],
   "source": [
    "#Write your code here\n",
    "n = 10\n",
    "FiL=[1,1]\n",
    "\n",
    "for i in range(3,n+1):\n",
    "    FiL.append(FiL[-2]+FiL[-1])\n",
    "    \n",
    "print(FiL)"
   ]
  },
  {
   "cell_type": "markdown",
   "metadata": {},
   "source": [
    "Compute the dot product of lists l1 and l2. **This is an example where iterating over the index is better than over the elements themselves**\n"
   ]
  },
  {
   "cell_type": "code",
   "execution_count": 45,
   "metadata": {},
   "outputs": [
    {
     "name": "stdout",
     "output_type": "stream",
     "text": [
      "[6, 3, 20, 5, 12, 1, 900]\n"
     ]
    }
   ],
   "source": [
    "#Write your code here\n",
    "l1 = [2, 3, 4, 5, 6, 1, 90]\n",
    "l2 = [3, 1, 5, 1, 2, 1, 10]\n",
    "l3=[]\n",
    "for i in range(0,len(l1)):\n",
    "    l3.append(l1[i]*l2[i])\n",
    "print(l3)    "
   ]
  },
  {
   "cell_type": "markdown",
   "metadata": {},
   "source": [
    "Given two strings, test how many times the first string contains the second.  For example if str1 = \"**co**ding is **co**ol\" and str2 = \"co\" then output should be 2."
   ]
  },
  {
   "cell_type": "code",
   "execution_count": 116,
   "metadata": {},
   "outputs": [
    {
     "name": "stdout",
     "output_type": "stream",
     "text": [
      "2.0\n"
     ]
    }
   ],
   "source": [
    "#Write you code here\n",
    "str1 = \"coding is cool\"\n",
    "str2 = \"co\"\n",
    "count=0\n",
    "\n",
    "for i in range(0,len(str1)):\n",
    "    if i+len(str2)<=len(str1):\n",
    "        for j in range(0,len(str2)):\n",
    "            count += 1\n",
    "            if str1[i+j]!=str2[j]: \n",
    "                count -= j+1\n",
    "                break\n",
    "                \n",
    "count /= len(str2)            \n",
    "print(count)\n",
    "\n",
    "\n",
    "#count=str1.count(str2)"
   ]
  },
  {
   "cell_type": "markdown",
   "metadata": {},
   "source": [
    "Code up the locker brain teaser below. Print out a list of the open locker numbers. Let N be the number of lockers and students"
   ]
  },
  {
   "cell_type": "code",
   "execution_count": 15,
   "metadata": {},
   "outputs": [
    {
     "data": {
      "text/plain": [
       "[1,\n",
       " 0,\n",
       " 0,\n",
       " 1,\n",
       " 0,\n",
       " 0,\n",
       " 0,\n",
       " 0,\n",
       " 1,\n",
       " 0,\n",
       " 0,\n",
       " 0,\n",
       " 0,\n",
       " 0,\n",
       " 0,\n",
       " 1,\n",
       " 0,\n",
       " 0,\n",
       " 0,\n",
       " 0,\n",
       " 0,\n",
       " 0,\n",
       " 0,\n",
       " 0,\n",
       " 1,\n",
       " 0,\n",
       " 0,\n",
       " 0,\n",
       " 0,\n",
       " 0,\n",
       " 0,\n",
       " 0,\n",
       " 0,\n",
       " 0,\n",
       " 0,\n",
       " 1,\n",
       " 0,\n",
       " 0,\n",
       " 0,\n",
       " 0,\n",
       " 0,\n",
       " 0,\n",
       " 0,\n",
       " 0,\n",
       " 0,\n",
       " 0,\n",
       " 0,\n",
       " 0,\n",
       " 1,\n",
       " 0,\n",
       " 0,\n",
       " 0,\n",
       " 0,\n",
       " 0,\n",
       " 0,\n",
       " 0,\n",
       " 0,\n",
       " 0,\n",
       " 0,\n",
       " 0,\n",
       " 0,\n",
       " 0,\n",
       " 0,\n",
       " 1,\n",
       " 0,\n",
       " 0,\n",
       " 0,\n",
       " 0,\n",
       " 0,\n",
       " 0,\n",
       " 0,\n",
       " 0,\n",
       " 0,\n",
       " 0,\n",
       " 0,\n",
       " 0,\n",
       " 0,\n",
       " 0,\n",
       " 0,\n",
       " 0,\n",
       " 1,\n",
       " 0,\n",
       " 0,\n",
       " 0,\n",
       " 0,\n",
       " 0,\n",
       " 0,\n",
       " 0,\n",
       " 0,\n",
       " 0,\n",
       " 0,\n",
       " 0,\n",
       " 0,\n",
       " 0,\n",
       " 0,\n",
       " 0,\n",
       " 0,\n",
       " 0,\n",
       " 0,\n",
       " 1]"
      ]
     },
     "execution_count": 15,
     "metadata": {},
     "output_type": "execute_result"
    }
   ],
   "source": [
    "#Write your code here  \n",
    "N=100\n",
    "locker=[]\n",
    "\n",
    "for i in range(1,N+1):\n",
    "    locker.append(0)\n",
    "\n",
    "for j in range(1,N+1):\n",
    "    for k in range(1,N+1):\n",
    "        if k % j ==0:\n",
    "            if locker[k-1]==1:\n",
    "                locker[k-1]=0\n",
    "            elif locker[k-1]==0:\n",
    "                locker[k-1]=1\n",
    "            \n",
    "locker"
   ]
  },
  {
   "cell_type": "markdown",
   "metadata": {},
   "source": [
    "initial[0,0,0,0,0,0]\n",
    "s=1--> [1,1,1,1,1,1]\n",
    "s=2--> [1,0,1,0,1,0]\n",
    "s=3--> [1,0,0,0,1,1]\n",
    "s=4--> [1,0,0,1,1,1]\n",
    "s=5--> [1,0,0,1,0,1]\n",
    "s=6--> [1,0,0,1,0,0]"
   ]
  }
 ],
 "metadata": {
  "kernelspec": {
   "display_name": "Python 3 (ipykernel)",
   "language": "python",
   "name": "python3"
  },
  "language_info": {
   "codemirror_mode": {
    "name": "ipython",
    "version": 3
   },
   "file_extension": ".py",
   "mimetype": "text/x-python",
   "name": "python",
   "nbconvert_exporter": "python",
   "pygments_lexer": "ipython3",
   "version": "3.9.7"
  },
  "toc": {
   "nav_menu": {
    "height": "48px",
    "width": "252px"
   },
   "number_sections": true,
   "sideBar": true,
   "skip_h1_title": false,
   "toc_cell": false,
   "toc_position": {},
   "toc_section_display": "block",
   "toc_window_display": false
  }
 },
 "nbformat": 4,
 "nbformat_minor": 2
}
