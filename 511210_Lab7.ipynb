{
 "cells": [
  {
   "cell_type": "markdown",
   "metadata": {},
   "source": [
    "# List Comprehension Practice"
   ]
  },
  {
   "cell_type": "markdown",
   "metadata": {},
   "source": [
    "Create list of all the even number below 100 using list comprehension."
   ]
  },
  {
   "cell_type": "code",
   "execution_count": 85,
   "metadata": {},
   "outputs": [
    {
     "name": "stdout",
     "output_type": "stream",
     "text": [
      "[0, 2, 4, 6, 8, 10, 12, 14, 16, 18, 20, 22, 24, 26, 28, 30, 32, 34, 36, 38, 40, 42, 44, 46, 48, 50, 52, 54, 56, 58, 60, 62, 64, 66, 68, 70, 72, 74, 76, 78, 80, 82, 84, 86, 88, 90, 92, 94, 96, 98]\n"
     ]
    }
   ],
   "source": [
    "#Write you code here\n",
    "\n",
    "list1=[i for i in range(100) if i%2 == 0]\n",
    "print(list1)"
   ]
  },
  {
   "cell_type": "markdown",
   "metadata": {},
   "source": [
    "Create a poker deck with list of lists. For example, your deck should be [[\"H\", 1], ...[\"H\", 13], ...., [\"C\", 1], ....]"
   ]
  },
  {
   "cell_type": "code",
   "execution_count": 28,
   "metadata": {},
   "outputs": [
    {
     "name": "stdout",
     "output_type": "stream",
     "text": [
      "[['H', 1], ['H', 2], ['H', 3], ['H', 4], ['H', 5], ['H', 6], ['H', 7], ['H', 8], ['H', 9], ['H', 10], ['H', 11], ['H', 12], ['H', 13], ['D', 1], ['D', 2], ['D', 3], ['D', 4], ['D', 5], ['D', 6], ['D', 7], ['D', 8], ['D', 9], ['D', 10], ['D', 11], ['D', 12], ['D', 13], ['C', 1], ['C', 2], ['C', 3], ['C', 4], ['C', 5], ['C', 6], ['C', 7], ['C', 8], ['C', 9], ['C', 10], ['C', 11], ['C', 12], ['C', 13], ['S', 1], ['S', 2], ['S', 3], ['S', 4], ['S', 5], ['S', 6], ['S', 7], ['S', 8], ['S', 9], ['S', 10], ['S', 11], ['S', 12], ['S', 13]]\n"
     ]
    }
   ],
   "source": [
    "#Write you code here\n",
    "\n",
    "list2=[[i,j] for i in \"HDCS\" for j in range(1,14)]\n",
    "print(list2)"
   ]
  },
  {
   "cell_type": "markdown",
   "metadata": {},
   "source": [
    "Generate an $n\\times n$ identity matrix as a list of lists using list comprehension. This should be one line of code"
   ]
  },
  {
   "cell_type": "code",
   "execution_count": 32,
   "metadata": {},
   "outputs": [
    {
     "name": "stdout",
     "output_type": "stream",
     "text": [
      "[[1, 2, 3, 4, 5, 6, 7, 8, 9, 10], [11, 12, 13, 14, 15, 16, 17, 18, 19, 20], [21, 22, 23, 24, 25, 26, 27, 28, 29, 30], [31, 32, 33, 34, 35, 36, 37, 38, 39, 40], [41, 42, 43, 44, 45, 46, 47, 48, 49, 50], [51, 52, 53, 54, 55, 56, 57, 58, 59, 60], [61, 62, 63, 64, 65, 66, 67, 68, 69, 70], [71, 72, 73, 74, 75, 76, 77, 78, 79, 80], [81, 82, 83, 84, 85, 86, 87, 88, 89, 90], [91, 92, 93, 94, 95, 96, 97, 98, 99, 100]]\n"
     ]
    },
    {
     "data": {
      "text/plain": [
       "[[1, 0, 0, 0, 0, 0, 0, 0, 0, 0],\n",
       " [0, 1, 0, 0, 0, 0, 0, 0, 0, 0],\n",
       " [0, 0, 1, 0, 0, 0, 0, 0, 0, 0],\n",
       " [0, 0, 0, 1, 0, 0, 0, 0, 0, 0],\n",
       " [0, 0, 0, 0, 1, 0, 0, 0, 0, 0],\n",
       " [0, 0, 0, 0, 0, 1, 0, 0, 0, 0],\n",
       " [0, 0, 0, 0, 0, 0, 1, 0, 0, 0],\n",
       " [0, 0, 0, 0, 0, 0, 0, 1, 0, 0],\n",
       " [0, 0, 0, 0, 0, 0, 0, 0, 1, 0],\n",
       " [0, 0, 0, 0, 0, 0, 0, 0, 0, 1]]"
      ]
     },
     "execution_count": 32,
     "metadata": {},
     "output_type": "execute_result"
    }
   ],
   "source": [
    "n=10\n",
    "\n",
    "#Write you code here\n",
    "\n",
    "[[int(i==j) for i in range(n)]for j in range(n)]        "
   ]
  },
  {
   "cell_type": "markdown",
   "metadata": {},
   "source": [
    "Take a string, make a list of strings where each element is the original string without a character. For example, \"Jake\" => [\"ake\", \"Jke\", \"Jae\", \"Jak\"]"
   ]
  },
  {
   "cell_type": "code",
   "execution_count": 65,
   "metadata": {},
   "outputs": [
    {
     "name": "stdout",
     "output_type": "stream",
     "text": [
      "['ake', 'Jke', 'Jae', 'Jak']\n"
     ]
    }
   ],
   "source": [
    "s= \"Jake\" \n",
    "\n",
    "#Write your code here\n",
    "\n",
    "output=[]\n",
    "\n",
    "for char in s:\n",
    "    output.append(s.replace(char,'',1))\n",
    "    \n",
    "print(output)"
   ]
  },
  {
   "cell_type": "markdown",
   "metadata": {},
   "source": [
    "Take a string, make a list of strings where we insert a single \"x\" or \"y\" in every possible location between two letters. For example, \"Jake\" => [\"Jxake\", \"Jyake\", \"Jaxke\", \"Jayke\",...]"
   ]
  },
  {
   "cell_type": "code",
   "execution_count": 67,
   "metadata": {},
   "outputs": [
    {
     "name": "stdout",
     "output_type": "stream",
     "text": [
      "['Jxake', 'Jyake', 'Jaxke', 'Jayke', 'Jakxe', 'Jakye']\n"
     ]
    }
   ],
   "source": [
    "s= \"Jake\" \n",
    "\n",
    "#Write your code here\n",
    "\n",
    "output=[]\n",
    "\n",
    "for i in range(1,len(s)):\n",
    "    output.append(s[0:i]+'x'+s[i:])\n",
    "    output.append(s[0:i]+'y'+s[i:])\n",
    "    \n",
    "print(output)\n"
   ]
  },
  {
   "cell_type": "markdown",
   "metadata": {},
   "source": [
    "Let build a spell checker that will recommend spelling changes for a given input word. We will recommend words that have a small \"edit distance\" (start with edit distance of one) from the input word. The edit distance will be fewest number of edits needed to go from the input word to the correct English word where an edit is either a delete, replace, transpose (flip any two letters), or an insert. The file \"English_Words.txt\" contains a list of 58,000 common English words.\n",
    "\n",
    "First function is **Read_Words()**:\n",
    "\n",
    "- Input: None\n",
    "- Output: List of of all English Words\n",
    "\n",
    "\n",
    "\n",
    "Second function is **Edits(word)**:\n",
    "\n",
    "- Input: incorrectly spelled word\n",
    "- Output: list of all edits\n",
    "\n",
    "Third function is **Get_English_Words(list_edits, english_words)**:\n",
    "\n",
    "- Input: list of potential edits and list of english words.\n",
    "- Output: all words in list_edits that are english words."
   ]
  },
  {
   "cell_type": "code",
   "execution_count": 98,
   "metadata": {},
   "outputs": [],
   "source": [
    "def Read_Words():\n",
    "    \"\"\"Reads list of English words\"\"\"\n",
    "    \n",
    "    #f=open\n",
    "    #line=f.readlines()\n",
    "    \n",
    "    words=[word.strip(\"\\n\") for word in open(\"English_words.txt\")]\n",
    "    \n",
    "    return words"
   ]
  },
  {
   "cell_type": "code",
   "execution_count": 99,
   "metadata": {},
   "outputs": [
    {
     "data": {
      "text/plain": [
       "['wtrd',\n",
       " 'wory',\n",
       " 'wgrd',\n",
       " 'wodr',\n",
       " 'worfd',\n",
       " 'worjd',\n",
       " 'wornd',\n",
       " 'wmord',\n",
       " 'wwrd',\n",
       " 'bword',\n",
       " 'woxrd',\n",
       " 'wore',\n",
       " 'worv',\n",
       " 'wrrd',\n",
       " 'whrd',\n",
       " 'wovd',\n",
       " 'wbord',\n",
       " 'wort',\n",
       " 'wosrd',\n",
       " 'eord',\n",
       " 'woard',\n",
       " 'oord',\n",
       " 'wxord',\n",
       " 'gword',\n",
       " 'uword',\n",
       " 'pord',\n",
       " 'worad',\n",
       " 'wvord',\n",
       " 'womd',\n",
       " 'wgord',\n",
       " 'wojd',\n",
       " 'wodrd',\n",
       " 'pword',\n",
       " 'wor',\n",
       " 'wold',\n",
       " 'woqd',\n",
       " 'waord',\n",
       " 'wopd',\n",
       " 'wohd',\n",
       " 'wrord',\n",
       " 'hord',\n",
       " 'whord',\n",
       " 'wxrd',\n",
       " 'wocrd',\n",
       " 'ord',\n",
       " 'wolrd',\n",
       " 'woird',\n",
       " 'nword',\n",
       " 'worwd',\n",
       " 'xord',\n",
       " 'wohrd',\n",
       " 'kord',\n",
       " 'wofrd',\n",
       " 'woad',\n",
       " 'kword',\n",
       " 'worpd',\n",
       " 'yword',\n",
       " 'wokrd',\n",
       " 'wird',\n",
       " 'mord',\n",
       " 'sord',\n",
       " 'worbd',\n",
       " 'xword',\n",
       " 'wored',\n",
       " 'iord',\n",
       " 'woid',\n",
       " 'worzd',\n",
       " 'jword',\n",
       " 'wurd',\n",
       " 'wsord',\n",
       " 'eword',\n",
       " 'worod',\n",
       " 'worj',\n",
       " 'woqrd',\n",
       " 'wofd',\n",
       " 'lword',\n",
       " 'sword',\n",
       " 'wors',\n",
       " 'owrd',\n",
       " 'worr',\n",
       " 'wzord',\n",
       " 'wuord',\n",
       " 'wlord',\n",
       " 'worm',\n",
       " 'yord',\n",
       " 'wond',\n",
       " 'work',\n",
       " 'ford',\n",
       " 'worgd',\n",
       " 'aword',\n",
       " 'nord',\n",
       " 'world',\n",
       " 'wqrd',\n",
       " 'wzrd',\n",
       " 'wqord',\n",
       " 'mword',\n",
       " 'wkord',\n",
       " 'wrod',\n",
       " 'wnrd',\n",
       " 'wozd',\n",
       " 'worud',\n",
       " 'dword',\n",
       " 'wjord',\n",
       " 'ward',\n",
       " 'wprd',\n",
       " 'worqd',\n",
       " 'aord',\n",
       " 'jord',\n",
       " 'worrd',\n",
       " 'tword',\n",
       " 'weord',\n",
       " 'wyord',\n",
       " 'dord',\n",
       " 'qord',\n",
       " 'worn',\n",
       " 'wdro',\n",
       " 'wford',\n",
       " 'wod',\n",
       " 'wbrd',\n",
       " 'wword',\n",
       " 'worf',\n",
       " 'zword',\n",
       " 'wlrd',\n",
       " 'wiord',\n",
       " 'wowd',\n",
       " 'woed',\n",
       " 'woru',\n",
       " 'wcord',\n",
       " 'woyd',\n",
       " 'bord',\n",
       " 'worxd',\n",
       " 'zord',\n",
       " 'wtord',\n",
       " 'qword',\n",
       " 'workd',\n",
       " 'wfrd',\n",
       " 'uord',\n",
       " 'wkrd',\n",
       " 'wokd',\n",
       " 'worc',\n",
       " 'tord',\n",
       " 'rord',\n",
       " 'werd',\n",
       " 'wori',\n",
       " 'wormd',\n",
       " 'wvrd',\n",
       " 'rowd',\n",
       " 'wozrd',\n",
       " 'worcd',\n",
       " 'worsd',\n",
       " 'wood',\n",
       " 'woro',\n",
       " 'worb',\n",
       " 'woxd',\n",
       " 'iword',\n",
       " 'wcrd',\n",
       " 'worw',\n",
       " 'wocd',\n",
       " 'woud',\n",
       " 'wotrd',\n",
       " 'wdrd',\n",
       " 'gord',\n",
       " 'wobrd',\n",
       " 'wsrd',\n",
       " 'wdord',\n",
       " 'worl',\n",
       " 'wortd',\n",
       " 'woprd',\n",
       " 'vord',\n",
       " 'word',\n",
       " 'wora',\n",
       " 'worg',\n",
       " 'worvd',\n",
       " 'wojrd',\n",
       " 'lord',\n",
       " 'vword',\n",
       " 'cword',\n",
       " 'worhd',\n",
       " 'wourd',\n",
       " 'woryd',\n",
       " 'worp',\n",
       " 'oword',\n",
       " 'woord',\n",
       " 'fword',\n",
       " 'wjrd',\n",
       " 'cord',\n",
       " 'wnord',\n",
       " 'wyrd',\n",
       " 'dorw',\n",
       " 'womrd',\n",
       " 'wordd',\n",
       " 'wogd',\n",
       " 'wonrd',\n",
       " 'wodd',\n",
       " 'woerd',\n",
       " 'wogrd',\n",
       " 'wovrd',\n",
       " 'worq',\n",
       " 'wpord',\n",
       " 'worx',\n",
       " 'rword',\n",
       " 'wmrd',\n",
       " 'wotd',\n",
       " 'worh',\n",
       " 'woyrd',\n",
       " 'worz',\n",
       " 'wowrd',\n",
       " 'wosd',\n",
       " 'hword',\n",
       " 'worid',\n",
       " 'wobd',\n",
       " 'wrd']"
      ]
     },
     "execution_count": 99,
     "metadata": {},
     "output_type": "execute_result"
    }
   ],
   "source": [
    "def Edits(word):\n",
    "    \"\"\"Gets all edits for misplelled word\"\"\"\n",
    "    \n",
    "    letters='abcdefghijklmnopqrstuvwxyz'\n",
    "    num_letters=len(word)\n",
    "    \n",
    "    deletes=[word[:i]+word[i+1:] for i in range(num_letters)]\n",
    "    inserts=[word[:i]+letter+word[i:] for i in range(num_letters) for letter in letters]\n",
    "    replaces=[word[:i]+letter+word[i+1:] for i in range(num_letters) for letter in letters]\n",
    "    transposes=[word[:k]+word[j]+word[k+1:j]+word[k]+word[j+1:] for k in range(num_letters) for j in range(k+1, num_letters)]\n",
    "    \n",
    "    all_edits=set(deletes+inserts+replaces+transposes)\n",
    "                \n",
    "    return list(all_edits)\n",
    "\n",
    "Edits('word')\n"
   ]
  },
  {
   "cell_type": "code",
   "execution_count": 102,
   "metadata": {},
   "outputs": [],
   "source": [
    "def Get_English_Words(list_edits, english_words):\n",
    "    \n",
    "    \"\"\"Filters list of edits to make sure they are all English words\"\"\"\n",
    "    output=[word for word in list_edits if word in english_words]\n",
    "    \n",
    "    return output"
   ]
  },
  {
   "cell_type": "code",
   "execution_count": 103,
   "metadata": {},
   "outputs": [
    {
     "name": "stdout",
     "output_type": "stream",
     "text": [
      "['dice', 'nice', 'slice', 'mice', 'side', 'size', 'sire', 'vice', 'sine', 'sick', 'rice', 'ice', 'spice', 'lice', 'since', 'site', 'sic']\n"
     ]
    }
   ],
   "source": [
    "#Combine functions here\n",
    "\n",
    "word='sice'\n",
    "\n",
    "english_words=Read_Words()\n",
    "all_edits=Edits(word)\n",
    "ans=Get_English_Words(all_edits, english_words)\n",
    "\n",
    "print(ans)"
   ]
  },
  {
   "cell_type": "markdown",
   "metadata": {},
   "source": [
    "# Package Practice\n",
    "\n",
    "Generate N = 5,10,100,1000,10000,1000000 normal random variables with mean 10 and standard deviation 5.  For each value of N, compute the average of these random variables and write the results to a csv file where there is a column for N and another column for the averages."
   ]
  },
  {
   "cell_type": "code",
   "execution_count": 3,
   "metadata": {},
   "outputs": [
    {
     "data": {
      "text/plain": [
       "9.261929047772531"
      ]
     },
     "execution_count": 3,
     "metadata": {},
     "output_type": "execute_result"
    }
   ],
   "source": [
    "import numpy as np\n",
    "\n",
    "def Get_Avg(mean, stdev, N):\n",
    "    \"\"\"Return the avg of N normal RVs with given mean and stdev\"\"\"\n",
    "    \n",
    "    random_vars = np.random.normal(mean,stdev,N)\n",
    "    \n",
    "\n",
    "\n",
    "    \n",
    "    return np.mean(random_vars)\n",
    "\n",
    "\n",
    "Get_Avg(10,5,100)"
   ]
  },
  {
   "cell_type": "code",
   "execution_count": 4,
   "metadata": {},
   "outputs": [],
   "source": [
    "def Write_Results(mean, stdev, list_N):\n",
    "    \"\"\"Write the results to a csv\"\"\"\n",
    "    \n",
    "    with open(\"results.csv\",\"w\") as f:\n",
    "        for n in list_N:\n",
    "            avg=Get_Avg(mean,stdev,n)\n",
    "            f.write(f\"{n:d},{avg:.2f}\\n\")\n",
    "    return None\n"
   ]
  },
  {
   "cell_type": "code",
   "execution_count": 5,
   "metadata": {},
   "outputs": [],
   "source": [
    "#Combine functions here\n",
    "list_N=[5,10,100,10000,1000000]\n",
    "mean=10\n",
    "stdev=5\n",
    "Write_Results(mean, stdev, list_N)"
   ]
  },
  {
   "cell_type": "markdown",
   "metadata": {},
   "source": [
    "Which has a higher average max. roll: one 8-sided die + one 6-sided die or three 6-sided die.  Simulate 1000000 rolls for each option and compute the average max roll for these two scenarios over the all the rolls."
   ]
  },
  {
   "cell_type": "code",
   "execution_count": 6,
   "metadata": {},
   "outputs": [
    {
     "data": {
      "text/plain": [
       "6"
      ]
     },
     "execution_count": 6,
     "metadata": {},
     "output_type": "execute_result"
    }
   ],
   "source": [
    "#Write you code here\n",
    "\n",
    "def Roll_Dice(list_die):\n",
    "    \"\"\"list_die is a list whose elements give the number of sides\n",
    "    on each die. so for three 6 sides you have list_die = [6,6,6].\n",
    "    This function executes a single roll of all the dice and return the max.\"\"\"\n",
    "\n",
    "    rolls = []\n",
    "    num_dice=len(list_die)\n",
    "    \n",
    "    for i in range(num_dice):\n",
    "        rolls.append(np.random.randint(1,list_die[i]+1))\n",
    "    \n",
    "\n",
    "    return max(rolls)\n",
    "Roll_Dice([6,6,6])"
   ]
  },
  {
   "cell_type": "code",
   "execution_count": 7,
   "metadata": {},
   "outputs": [
    {
     "data": {
      "text/plain": [
       "6.0"
      ]
     },
     "execution_count": 7,
     "metadata": {},
     "output_type": "execute_result"
    }
   ],
   "source": [
    "def Simulate(N,list_die):\n",
    "    \"\"\"Rolls dice N times and find the average max roll of list_die.\"\"\"\n",
    "\n",
    "    all_rolls=[]\n",
    "    \n",
    "    for i in range(N):\n",
    "        all_rolls.append(Roll_Dice(list_die))\n",
    "    \n",
    "\n",
    "    return np.mean(all_rolls)\n",
    "\n",
    "Simulate(1,[6,6,6])"
   ]
  },
  {
   "cell_type": "code",
   "execution_count": 8,
   "metadata": {},
   "outputs": [
    {
     "name": "stdout",
     "output_type": "stream",
     "text": [
      "Number of dice? 4\n",
      "Number of sides? 2\n",
      "Number of sides? 1\n",
      "Number of sides? 6\n",
      "Number of sides? 6\n"
     ]
    },
    {
     "data": {
      "text/plain": [
       "4.487316"
      ]
     },
     "execution_count": 8,
     "metadata": {},
     "output_type": "execute_result"
    }
   ],
   "source": [
    "#Combine your functions here\n",
    "\n",
    "N= 1000000\n",
    "n=int(input(\"Number of dice? \"))\n",
    "list_die=[]\n",
    "for i in range(n):\n",
    "    list_die.append(int(input(\"Number of sides? \")))\n",
    "Simulate(N,list_die)"
   ]
  },
  {
   "cell_type": "code",
   "execution_count": null,
   "metadata": {},
   "outputs": [],
   "source": []
  }
 ],
 "metadata": {
  "kernelspec": {
   "display_name": "Python 3 (ipykernel)",
   "language": "python",
   "name": "python3"
  },
  "language_info": {
   "codemirror_mode": {
    "name": "ipython",
    "version": 3
   },
   "file_extension": ".py",
   "mimetype": "text/x-python",
   "name": "python",
   "nbconvert_exporter": "python",
   "pygments_lexer": "ipython3",
   "version": "3.9.7"
  },
  "toc": {
   "nav_menu": {
    "height": "30px",
    "width": "252px"
   },
   "number_sections": true,
   "sideBar": true,
   "skip_h1_title": false,
   "toc_cell": false,
   "toc_position": {},
   "toc_section_display": "block",
   "toc_window_display": false
  }
 },
 "nbformat": 4,
 "nbformat_minor": 2
}
