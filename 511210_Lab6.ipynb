{
 "cells": [
  {
   "cell_type": "markdown",
   "metadata": {},
   "source": [
    "# Variable Assignment Practice\n",
    "\n",
    "For each block of code, predict what will be printed out."
   ]
  },
  {
   "cell_type": "code",
   "execution_count": 1,
   "metadata": {},
   "outputs": [],
   "source": [
    "from IPython.core.interactiveshell import InteractiveShell\n",
    "InteractiveShell.ast_node_interactivity = \"all\"\n"
   ]
  },
  {
   "cell_type": "code",
   "execution_count": 3,
   "metadata": {},
   "outputs": [
    {
     "name": "stdout",
     "output_type": "stream",
     "text": [
      "Today is \n",
      "Monday\n",
      "\n",
      "\n",
      "\n",
      "\n",
      "Today is Monday\n",
      "Today is \n",
      "Monday\n",
      "\n",
      "\n",
      "\n",
      "\n",
      "Today is Monday\n",
      "Monday\n"
     ]
    }
   ],
   "source": [
    "def concatenate(str_1, str_2):\n",
    "    str_1 = str_1 + str_2\n",
    "    return str_1 \n",
    "\n",
    "str_1 = \"Today is \"\n",
    "str_2 = \"Monday\"\n",
    "\n",
    "print(str_1)\n",
    "print(str_2)\n",
    "print(\"\\n\\n\\n\")\n",
    "      \n",
    "print(concatenate(str_1, str_2))\n",
    "print(str_1)\n",
    "print(str_2)\n",
    "print(\"\\n\\n\\n\")\n",
    "\n",
    "str_1 = concatenate(str_1, str_2)\n",
    "print(str_1)\n",
    "print(str_2)\n"
   ]
  },
  {
   "cell_type": "code",
   "execution_count": 4,
   "metadata": {},
   "outputs": [
    {
     "name": "stdout",
     "output_type": "stream",
     "text": [
      "Before calling Sum1, x is a\n",
      "Before calling Sum1, y is b\n",
      "Inside function Sum1, x is 5\n",
      "Inside function Sum1, y is 1\n",
      "Inside function Sum2, x is a\n",
      "Inside function Sum2, y is 5\n"
     ]
    }
   ],
   "source": [
    "\n",
    "def Sum1():\n",
    "    x = 5\n",
    "    y = 1\n",
    "    print(\"Inside function Sum1, x is %s\" % x)\n",
    "    print(\"Inside function Sum1, y is %s\" % y)    \n",
    "    Sum2(x)\n",
    "    return\n",
    "\n",
    "def Sum2(y):\n",
    "    print(\"Inside function Sum2, x is %s\" % x)\n",
    "    print(\"Inside function Sum2, y is %s\" % y)\n",
    "\n",
    "x = \"a\"\n",
    "y = \"b\"\n",
    "print(\"Before calling Sum1, x is %s\" % x)\n",
    "print(\"Before calling Sum1, y is %s\" % y)\n",
    "Sum1()\n"
   ]
  },
  {
   "cell_type": "code",
   "execution_count": 5,
   "metadata": {},
   "outputs": [
    {
     "name": "stdout",
     "output_type": "stream",
     "text": [
      "Before function call GetMedianIndex, l = [4, 3, 1, 4, 2, 6, 7]\n",
      "Inside the function GetMedianIndex, l = [1, 2, 3, 4, 4, 6, 7]\n",
      "After function call GetMedianIndex, l = [1, 2, 3, 4, 4, 6, 7]\n",
      "After function call CutList, l = [1, 2, 3]\n"
     ]
    }
   ],
   "source": [
    "\n",
    "def GetMedianIndex(l):\n",
    "    print(\"Inside the function GetMedianIndex, l = %s\" % str(l))\n",
    "    index = int(len(l) / 2)\n",
    "    return index\n",
    "\n",
    "def CutList(middle, sortedList):\n",
    "    cutList = sortedList[:middle]\n",
    "    return cutList\n",
    "\n",
    "l = [4,3,1,4,2,6,7]\n",
    "print(\"Before function call GetMedianIndex, l = %s\" % str(l))\n",
    "l.sort()\n",
    "\n",
    "middle = GetMedianIndex(l)\n",
    "print(\"After function call GetMedianIndex, l = %s\" % str(l))\n",
    "l = CutList(middle, l)\n",
    "print(\"After function call CutList, l = %s\" % str(l))\n"
   ]
  },
  {
   "cell_type": "code",
   "execution_count": 3,
   "metadata": {},
   "outputs": [
    {
     "data": {
      "text/plain": [
       "'Charlie Dilly'"
      ]
     },
     "execution_count": 3,
     "metadata": {},
     "output_type": "execute_result"
    },
    {
     "data": {
      "text/plain": [
       "'Charlie'"
      ]
     },
     "execution_count": 3,
     "metadata": {},
     "output_type": "execute_result"
    }
   ],
   "source": [
    "name_1 = \"Charlie\"\n",
    "\n",
    "name_2 = name_1\n",
    "\n",
    "name_1+= \" Dilly\"\n",
    "\n",
    "name_1\n",
    "name_2"
   ]
  },
  {
   "cell_type": "code",
   "execution_count": 6,
   "metadata": {},
   "outputs": [
    {
     "data": {
      "text/plain": [
       "[10, 2, 3]"
      ]
     },
     "execution_count": 6,
     "metadata": {},
     "output_type": "execute_result"
    },
    {
     "data": {
      "text/plain": [
       "[4, 5, 6]"
      ]
     },
     "execution_count": 6,
     "metadata": {},
     "output_type": "execute_result"
    },
    {
     "data": {
      "text/plain": [
       "[[10, 2, 3], [4, 5, 6]]"
      ]
     },
     "execution_count": 6,
     "metadata": {},
     "output_type": "execute_result"
    }
   ],
   "source": [
    "L1 = [1,2,3]\n",
    "L2 = [4,5,6]\n",
    "L3 = [L1.copy,L2.copy]\n",
    "\n",
    "L1[0]= 10\n",
    "\n",
    "L1\n",
    "L2\n",
    "L3"
   ]
  },
  {
   "cell_type": "markdown",
   "metadata": {},
   "source": [
    "# More Function Practice"
   ]
  },
  {
   "cell_type": "markdown",
   "metadata": {},
   "source": [
    "In this problem, you will implement the mathematically interesting Look-and-Say sequence:\n",
    "\n",
    "1, 11, 21, 1211, 111221, 312211, 13112221, ...\n",
    "\n",
    "Construct the following functions to accomplish out task\n",
    "\n",
    "1. **Parse_String(term)**: Takes in a term of the sequence as a string a returns a list of lists, which keeps track of the the numbers appearing from left to right and the number of times the element appears. So Parse_String('1211') should return [['1','1'], ['1','2'], ['2','1']] since there is \"one 1\", then \"one 2\" and then \"two 1s\".\n",
    "\n",
    "2. **Next_Term(term)**: Takes as input a term of the sequence as a string and return the next term in the sequence.  So Parse_String('1211') should return '111221'.  This function should call the function Parse_String.\n",
    "\n",
    "3. **Read_It(init,n)**: Given an initital term in the sequence that is init, print out the next n-1 terms (in for loop, you will call Next_Term function n-1 times here).\n",
    "\n",
    "For example, if we can use as init = '1211' , n = 4, we will repeat Next_Term function 3 (n-1) times as seen below. \n",
    "\n",
    "1: 111221\n",
    "\n",
    "2: 312211\n",
    "\n",
    "3: 13112221"
   ]
  },
  {
   "cell_type": "code",
   "execution_count": 92,
   "metadata": {},
   "outputs": [
    {
     "data": {
      "text/plain": [
       "[['1', '1'], ['1', '2'], ['2', '1']]"
      ]
     },
     "execution_count": 92,
     "metadata": {},
     "output_type": "execute_result"
    }
   ],
   "source": [
    "term = '1211'\n",
    "\n",
    "def Parse_String(term):\n",
    "    \"\"\"Term is a term in the sequence inputted as a string.\n",
    "    You should return a lists of lists that will help you\n",
    "    get the next term in the sequence\"\"\"\n",
    "    new_term=[]\n",
    "    \n",
    "    #Write your code here\n",
    "    for i in range(len(term)):\n",
    "        if i==0:\n",
    "            new_term.append(['1',term[i]])\n",
    "        elif (term[i]==new_term[-1][-1]):\n",
    "            new_term[-1][0]=str(int(new_term[-1][0])+1)\n",
    "            \n",
    "        else:\n",
    "            new_term.append(['1',term[i]])\n",
    "        \n",
    "    return new_term\n",
    "Parse_String(term)"
   ]
  },
  {
   "cell_type": "code",
   "execution_count": 93,
   "metadata": {},
   "outputs": [
    {
     "data": {
      "text/plain": [
       "'111221'"
      ]
     },
     "execution_count": 93,
     "metadata": {},
     "output_type": "execute_result"
    }
   ],
   "source": [
    "def Next_Term(term):\n",
    "    \n",
    "    \"\"\"Term is again a string.  This should return the\n",
    "    next term in the sequence.\"\"\"\n",
    "    #Write your code here\n",
    "    string=''\n",
    "    for i in Parse_String(term):\n",
    "        string += ''.join(i)\n",
    "    \n",
    "    return string\n",
    "Next_Term(term)"
   ]
  },
  {
   "cell_type": "code",
   "execution_count": 111,
   "metadata": {},
   "outputs": [
    {
     "name": "stdout",
     "output_type": "stream",
     "text": [
      "1: 1211\n",
      "2: 312211\n",
      "3: 13112221\n"
     ]
    }
   ],
   "source": [
    "def Read_It(init,n):\n",
    "    \n",
    "    \"\"\"Writes the first n terms given the initial terms init.\"\"\"\n",
    "    ter=init\n",
    "    print(\"1:\",ter)\n",
    "    ter=Next_Term(init)\n",
    "    \n",
    "    for i in range(n-2):\n",
    "        ter=Next_Term(ter)\n",
    "        print(f\"{i+2:d}: {ter:s}\")\n",
    "\n",
    "    return None\n"
   ]
  },
  {
   "cell_type": "markdown",
   "metadata": {},
   "source": [
    "String you functions together in the cell below.\n"
   ]
  },
  {
   "cell_type": "code",
   "execution_count": 112,
   "metadata": {},
   "outputs": [
    {
     "name": "stdout",
     "output_type": "stream",
     "text": [
      "1: 1211\n",
      "2: 312211\n",
      "3: 13112221\n"
     ]
    }
   ],
   "source": [
    "#Write your code here.\n",
    "\n",
    "Read_It(term,4)"
   ]
  },
  {
   "cell_type": "markdown",
   "metadata": {},
   "source": [
    "Get the jacard similarity beween movies and users: user_likes.txt is a text file which contains the likes data from user. The first line of the file contains the movie names. Each line of the file contains \"a user,a list of binary variables indicating whether one likes the movie.\" The binary is 1 if the user likes the movie and the variable is 0 if the user does not like or has not seen the moview. \n",
    "\n",
    "For example, the file of Jake and Dennis is:\n",
    "\n",
    "         Star Wars  Spiderman  Shell\n",
    "    Jake     1         0        0\n",
    "\n",
    "    Dennis   0         0        1\n",
    "\n",
    "And according to the wikipedia, the Jaccard similarity is (0) / (1 + 1) = 0\n",
    "\n",
    "**Your task** is to write a series of  functions and the final goal is to do movie recomendation (challenging).\n",
    "\n",
    "1. **Read_Input()**: Read in the input and generate a dictionary where the key is the name and the list is a vector of binary vectors representing whether someone has liked the movie or not. The previous example will give a dictionary like {\"Jake\": [1, 0, 0], \"Dennis\": [0, 0, 1]}. \n",
    "\n",
    "2. **Get_Names(preference)**: takes in the dictionary from the previous function and generate names of all players in a list.\n",
    "\n",
    "3. **Similarity(name_1, name_2, preference)**: This function takes in two names and generates the jaccard similarity of these two people. Jaccard similarity = the common liked movies / (the total number of liked unique moives across two persons).\n",
    "\n",
    "4. **Movie_Soul_Mate(name_1, preference)**: This function takes a person's name and generate the soul mate for this person (soul mate = the person with largest jaccard similarity)\n"
   ]
  },
  {
   "cell_type": "code",
   "execution_count": 162,
   "metadata": {},
   "outputs": [
    {
     "data": {
      "text/plain": [
       "{'Andrew Sweren': [0, 0, 0, 0, 0, 0, 0, 1, 0, 0],\n",
       " 'Sabrina Alexandre': [1, 0, 1, 1, 1, 1, 1, 1, 1, 0],\n",
       " 'Chris Gohlke': [1, 0, 1, 1, 0, 1, 1, 0, 0, 0],\n",
       " 'Jacob Halladay-Glynn': [1, 0, 0, 0, 1, 1, 1, 1, 1, 1],\n",
       " 'Carl': [1, 0, 1, 1, 0, 1, 1, 0, 0, 0],\n",
       " 'Lisa Qu': [1, 1, 0, 1, 1, 1, 1, 0, 1, 0],\n",
       " 'Amal': [1, 0, 0, 1, 0, 1, 1, 0, 1, 0],\n",
       " 'Audrey Freeman': [1, 0, 0, 0, 1, 1, 0, 1, 1, 0],\n",
       " 'Taylor Benard': [0, 0, 0, 0, 1, 1, 1, 1, 1, 0],\n",
       " 'Ryan Farhat-Sabet': [0, 1, 1, 0, 0, 1, 0, 0, 0, 0],\n",
       " 'Philip Katz': [1, 1, 1, 1, 0, 1, 1, 1, 1, 1],\n",
       " 'Rachael Sondag': [0, 0, 0, 0, 0, 0, 0, 1, 1, 0],\n",
       " 'Huayu Gao': [1, 0, 0, 0, 1, 1, 1, 1, 1, 0],\n",
       " 'Ally Portelance': [1, 0, 1, 0, 0, 0, 1, 1, 1, 0],\n",
       " 'Jordan Smith': [1, 0, 0, 0, 1, 0, 0, 1, 1, 0],\n",
       " 'Natalia Boettcher': [0, 0, 0, 0, 0, 0, 0, 1, 1, 0],\n",
       " 'Caroline Stocking': [1, 0, 1, 0, 1, 0, 0, 1, 1, 0],\n",
       " 'Perry Gordon': [0, 0, 1, 1, 1, 1, 0, 1, 1, 0],\n",
       " 'Anthony Cortese': [0, 0, 1, 1, 0, 1, 1, 1, 0, 1],\n",
       " 'Cameron White': [1, 1, 1, 1, 1, 1, 0, 1, 1, 0],\n",
       " 'Tara Robinson': [0, 1, 1, 1, 1, 1, 1, 0, 1, 0],\n",
       " 'Jerry Abah': [1, 1, 1, 1, 1, 1, 1, 1, 0, 0],\n",
       " 'Daniel Podolsky': [1, 0, 0, 0, 0, 1, 1, 1, 1, 0],\n",
       " 'Margot Dupuis': [1, 0, 1, 0, 1, 1, 0, 0, 1, 1],\n",
       " 'Betsy Morgan': [1, 0, 0, 1, 1, 1, 0, 1, 1, 1],\n",
       " 'Savannah Zhang': [0, 0, 1, 0, 1, 1, 1, 1, 1, 0],\n",
       " 'Charlie': [0, 0, 1, 0, 0, 0, 1, 1, 1, 0],\n",
       " 'Jeri Glicksman': [1, 0, 0, 0, 1, 1, 0, 1, 1, 0],\n",
       " 'Chris Detloff': [1, 0, 1, 1, 0, 1, 0, 0, 1, 0],\n",
       " 'Salih': [1, 1, 0, 1, 1, 1, 1, 1, 1, 1]}"
      ]
     },
     "execution_count": 162,
     "metadata": {},
     "output_type": "execute_result"
    }
   ],
   "source": [
    "file_name = \"Data/Movie_Preferences.csv\"\n",
    "import os\n",
    "cwd=os.getcwd()\n",
    "path=os.path.join(cwd,file_name)\n",
    "def Read_Input(file_name):\n",
    "    \"\"\"Read the movie data, and return a preference dictionary.\"\"\"\n",
    "\n",
    "    f=open(path,\"r\")\n",
    "    content=f.readlines()\n",
    "    \n",
    "    dic_like={}\n",
    "    for like in content[2:]:\n",
    "        like=like.strip(\"\\n\").split(\",\")\n",
    "        dic_like[like[1]]=[int(num) for num in like[2:]]\n",
    "        \n",
    "    return dic_like\n",
    "\n",
    "Read_Input(file_name)"
   ]
  },
  {
   "cell_type": "code",
   "execution_count": 164,
   "metadata": {},
   "outputs": [
    {
     "data": {
      "text/plain": [
       "['Andrew Sweren',\n",
       " 'Sabrina Alexandre',\n",
       " 'Chris Gohlke',\n",
       " 'Jacob Halladay-Glynn',\n",
       " 'Carl',\n",
       " 'Lisa Qu',\n",
       " 'Amal',\n",
       " 'Audrey Freeman',\n",
       " 'Taylor Benard',\n",
       " 'Ryan Farhat-Sabet',\n",
       " 'Philip Katz',\n",
       " 'Rachael Sondag',\n",
       " 'Huayu Gao',\n",
       " 'Ally Portelance',\n",
       " 'Jordan Smith',\n",
       " 'Natalia Boettcher',\n",
       " 'Caroline Stocking',\n",
       " 'Perry Gordon',\n",
       " 'Anthony Cortese',\n",
       " 'Cameron White',\n",
       " 'Tara Robinson',\n",
       " 'Jerry Abah',\n",
       " 'Daniel Podolsky',\n",
       " 'Margot Dupuis',\n",
       " 'Betsy Morgan',\n",
       " 'Savannah Zhang',\n",
       " 'Charlie',\n",
       " 'Jeri Glicksman',\n",
       " 'Chris Detloff',\n",
       " 'Salih']"
      ]
     },
     "execution_count": 164,
     "metadata": {},
     "output_type": "execute_result"
    }
   ],
   "source": [
    "\n",
    "def Get_Names(preference):\n",
    "    \"\"\"Given a preference dictionary, get the names of all players.\"\"\"\n",
    "    list=[]\n",
    "    for i in preference.keys():\n",
    "        list.append(i)\n",
    "    return list\n",
    "\n",
    "Get_Names(Read_Input(file_name))"
   ]
  },
  {
   "cell_type": "code",
   "execution_count": 184,
   "metadata": {},
   "outputs": [
    {
     "data": {
      "text/plain": [
       "0.5"
      ]
     },
     "execution_count": 184,
     "metadata": {},
     "output_type": "execute_result"
    }
   ],
   "source": [
    "def Similarity(name_1, name_2, preference):\n",
    "    \"\"\"Given two names and preference, get the similarity between two people\"\"\"\n",
    "    commonlike=0\n",
    "    total=0\n",
    "    for num in range(len(preference[name_1])):\n",
    "        commonlike+=min(preference[name_1][num],preference[name_2][num])\n",
    "        total+=max(preference[name_1][num],preference[name_2][num])\n",
    "        \n",
    "    Jaccard=commonlike/total\n",
    "\n",
    "    return Jaccard\n",
    "Similarity('Chris Detloff', 'Betsy Morgan', Read_Input(file_name))"
   ]
  },
  {
   "cell_type": "code",
   "execution_count": 191,
   "metadata": {},
   "outputs": [],
   "source": [
    "def movie_soul_mate(name_1, preference):\n",
    "    \"\"\"Given a name, get the player that has highest Jaccard similarity with this person.\"\"\"\n",
    "    compare={}\n",
    "    for names in Get_Names(Read_Input(file_name)):\n",
    "        if names != name_1:\n",
    "            compare[names]=Similarity(name_1, names, preference)\n",
    "    soul=max(compare.values())\n",
    "    \n",
    "    for i in compare:\n",
    "        if compare[i]==soul:\n",
    "            value=i\n",
    "    a=print(f\"{name_1} has the highest Jaccard similarity value {soul:.2f} with {value}\")\n",
    "            \n",
    "    return a\n"
   ]
  },
  {
   "cell_type": "markdown",
   "metadata": {},
   "source": [
    "String your functions together in the cell below"
   ]
  },
  {
   "cell_type": "code",
   "execution_count": 197,
   "metadata": {},
   "outputs": [
    {
     "name": "stdout",
     "output_type": "stream",
     "text": [
      "Philip Katz has the highest Jaccard similarity value 0.80 with Salih\n"
     ]
    }
   ],
   "source": [
    "#Write your code here\n",
    "movie_soul_mate('Philip Katz', Read_Input(file_name))"
   ]
  },
  {
   "cell_type": "code",
   "execution_count": null,
   "metadata": {},
   "outputs": [],
   "source": []
  }
 ],
 "metadata": {
  "kernelspec": {
   "display_name": "Python 3 (ipykernel)",
   "language": "python",
   "name": "python3"
  },
  "language_info": {
   "codemirror_mode": {
    "name": "ipython",
    "version": 3
   },
   "file_extension": ".py",
   "mimetype": "text/x-python",
   "name": "python",
   "nbconvert_exporter": "python",
   "pygments_lexer": "ipython3",
   "version": "3.9.7"
  },
  "toc": {
   "colors": {
    "hover_highlight": "#DAA520",
    "navigate_num": "#000000",
    "navigate_text": "#333333",
    "running_highlight": "#FF0000",
    "selected_highlight": "#FFD700",
    "sidebar_border": "#EEEEEE",
    "wrapper_background": "#FFFFFF"
   },
   "moveMenuLeft": true,
   "nav_menu": {
    "height": "30px",
    "width": "252px"
   },
   "navigate_menu": true,
   "number_sections": true,
   "sideBar": true,
   "skip_h1_title": false,
   "threshold": 4,
   "toc_cell": false,
   "toc_position": {},
   "toc_section_display": "block",
   "toc_window_display": false,
   "widenNotebook": false
  }
 },
 "nbformat": 4,
 "nbformat_minor": 2
}
