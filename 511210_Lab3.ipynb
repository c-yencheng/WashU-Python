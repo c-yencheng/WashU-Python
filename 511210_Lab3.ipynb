{
 "cells": [
  {
   "cell_type": "markdown",
   "metadata": {},
   "source": [
    "# Practice with New Objects\n",
    "\n"
   ]
  },
  {
   "cell_type": "markdown",
   "metadata": {},
   "source": [
    "## Practice with Dictionaries"
   ]
  },
  {
   "cell_type": "markdown",
   "metadata": {},
   "source": [
    "From the dictionary, produce a list of strings, where each element in the list is a last name.  Your code should work for an arbitrary dictionary formatted as given below. Please print Last names in the dictionary."
   ]
  },
  {
   "cell_type": "code",
   "execution_count": 58,
   "metadata": {},
   "outputs": [
    {
     "name": "stdout",
     "output_type": "stream",
     "text": [
      "The last names are ['Tutun', 'Jake']\n"
     ]
    }
   ],
   "source": [
    "d = {1: \"Salih Tutun\", 2 : \"Dennis Jake\"}\n",
    "\n",
    "#Write your code here\n",
    "\n",
    "last_names = []\n",
    "last_name = []\n",
    "\n",
    "\n",
    "for i in d.values():\n",
    "    last_name = i.split(\" \")\n",
    "    last_names.append(last_name[-1])\n",
    "\n",
    "print(f\"The last names are {last_names}\")\n"
   ]
  },
  {
   "cell_type": "markdown",
   "metadata": {},
   "source": [
    "Consider the following dictionary D of scores.  From this dictionary, produce another dictionary where the keys are the names and the values are the average scores."
   ]
  },
  {
   "cell_type": "code",
   "execution_count": 59,
   "metadata": {},
   "outputs": [
    {
     "name": "stdout",
     "output_type": "stream",
     "text": [
      "{'Jake': 88.5, 'Charlie': 99.66666666666667, 'Ellen': 90.0}\n"
     ]
    }
   ],
   "source": [
    "# creating a new dictionary \n",
    "D = {\"Jake\" : [99,87,91, 77], \"Charlie\" : [100,100,99], \"Ellen\" : [95,70, 85,100,100]}\n",
    "\n",
    "#Write your code here\n",
    "D_new = {}\n",
    "calavg=0\n",
    "\n",
    "for i in D.keys():\n",
    "    for j in range(0,len(D[i])):\n",
    "        calavg += D[i][j]\n",
    "    calavg /= len(D[i])\n",
    "    D_new[i] = calavg\n",
    "    calavg = 0\n",
    "\n",
    "print(D_new)"
   ]
  },
  {
   "cell_type": "code",
   "execution_count": 61,
   "metadata": {},
   "outputs": [
    {
     "name": "stdout",
     "output_type": "stream",
     "text": [
      "[('Jake', 1), ('Charlie', 2), ('Ellen', 3)]\n",
      "[100, 200, 300]\n"
     ]
    }
   ],
   "source": [
    "#Example of Tuples for using in Dictionaries\n",
    "\n",
    "my_dict = {(\"Jake\",1) : 100, (\"Charlie\",2) : 200, (\"Ellen\",3) : 300}  \n",
    "# list out keys and values separately \n",
    "\n",
    "key_list=list(my_dict.keys())    \n",
    "value_list=list(my_dict.values())\n",
    "\n",
    "print(key_list)\n",
    "print(value_list)"
   ]
  },
  {
   "cell_type": "markdown",
   "metadata": {},
   "source": [
    "Write the code to check whether the inputted sentence is a pangram, meaning that it contains all 26 letters.  "
   ]
  },
  {
   "cell_type": "code",
   "execution_count": 64,
   "metadata": {},
   "outputs": [
    {
     "name": "stdout",
     "output_type": "stream",
     "text": [
      "It contains all 26 letters\n"
     ]
    }
   ],
   "source": [
    "sentence = \"the quick brown fox jumps over the lazy dog\"\n",
    "#Write your code here\n",
    "\n",
    "a_list = []\n",
    "\n",
    "alphabet = \"abcdefghijklmnopqrstuvwxyz\" \n",
    "pangram = True\n",
    "for i in alphabet:\n",
    "    if i not in sentence:\n",
    "        pangram = False\n",
    "    \n",
    "if pangram == False:\n",
    "    print(\"It does not contain all 26 letters\")\n",
    "else:\n",
    "    print(\"It contains all 26 letters\")\n",
    "\n",
    "    "
   ]
  },
  {
   "cell_type": "markdown",
   "metadata": {},
   "source": [
    "## Practice with String Methods\n",
    "\n",
    "Use the **count** method to count the number of times that str1 appears in str2."
   ]
  },
  {
   "cell_type": "code",
   "execution_count": 65,
   "metadata": {},
   "outputs": [
    {
     "data": {
      "text/plain": [
       "2"
      ]
     },
     "execution_count": 65,
     "metadata": {},
     "output_type": "execute_result"
    }
   ],
   "source": [
    "str1 = \"co\"\n",
    "str2 = \"coding in school is cool\"\n",
    "#Write your code here\n",
    "\n",
    "str2.count(str1)"
   ]
  },
  {
   "cell_type": "markdown",
   "metadata": {},
   "source": [
    "Count the number of words that start with a vowel (a,e,i,o,u) in the following sentences.  The code should work for any sentence. The **split**, **replace** and **lower** methods will be useful here."
   ]
  },
  {
   "cell_type": "code",
   "execution_count": 85,
   "metadata": {},
   "outputs": [
    {
     "name": "stdout",
     "output_type": "stream",
     "text": [
      "7\n"
     ]
    }
   ],
   "source": [
    "sentence = \"\"\"Jake likes to eat apples. So, he went to the store to acquire some. \n",
    "He used his coupons and then he declared: I love apples.\"\"\"\n",
    "\n",
    "#Write your code here\n",
    "vowel=\"aeiou\"\n",
    "sentence_list=sentence.replace(\".\", \"\").replace(\":\", \"\").\\\n",
    "                        replace(\",\", \"\").replace(\"\\n\", \"\").lower().split(\" \")\n",
    "count=0\n",
    "for i in vowel:\n",
    "    for j in sentence_list:\n",
    "        if j[0] == i:\n",
    "            count += 1\n",
    "\n",
    "print(count)"
   ]
  },
  {
   "cell_type": "markdown",
   "metadata": {},
   "source": [
    "\n",
    "## Practice with List Methods\n",
    " \n",
    "Store all of the words with more than 5 letters in a list. Use the **append** method for lists and the **strip** method for strings to get rid of punctuation."
   ]
  },
  {
   "cell_type": "code",
   "execution_count": 102,
   "metadata": {},
   "outputs": [
    {
     "name": "stdout",
     "output_type": "stream",
     "text": [
      "['apples', 'acquire', 'coupons', 'declared', 'apples']\n",
      "5\n"
     ]
    }
   ],
   "source": [
    "sentence = \"\"\"Jake likes to eat apples. So, he went to the store to acquire some. \n",
    "He used his coupons and then he declared: I love apples.\"\"\"\n",
    "\n",
    "#Write you code here\n",
    "sentence_list=sentence.split(\" \")\n",
    "sentence_new=[]\n",
    "list=[]\n",
    "count=0\n",
    "for i in sentence_list:\n",
    "    word=i.strip(\".,:\\n\")\n",
    "    sentence_new.append(word)\n",
    "for j in sentence_new:\n",
    "    if len(j)>5:\n",
    "        count+=1\n",
    "        list.append(j)\n",
    "        \n",
    "print(list)\n",
    "print(count)"
   ]
  },
  {
   "cell_type": "markdown",
   "metadata": {},
   "source": [
    "From the list L, created a list of lists called Q, which slices around the number 4. For example, if  L = [1,2,3,4,5,6], then Q = [[1,2,3], [5,6]].  The code should work for general L with a single 4. Use the **index** and **append** methods. "
   ]
  },
  {
   "cell_type": "code",
   "execution_count": 4,
   "metadata": {},
   "outputs": [
    {
     "name": "stdout",
     "output_type": "stream",
     "text": [
      "3\n",
      "6\n",
      "[[1, 2, 3], [], [6, 5, 4, 10, 3]]\n"
     ]
    }
   ],
   "source": [
    "L=[1,2,3,4,6,5,4,10,3]\n",
    "\n",
    "#Write you code here\n",
    "\n",
    "Q = []\n",
    "ind=[]\n",
    "#for i in range(len(L)):\n",
    "    #if L[i] == 4:\n",
    "        #ind.append(i)\n",
    "\n",
    "startind=0\n",
    "for i in L:\n",
    "    if i == 4:\n",
    "        ind.append(L.index(4,startind))\n",
    "        startind=L.index(4,startind+1,len(L))\n",
    "        print(startind)\n",
    "        \n",
    "for j in range(len(ind)):\n",
    "    if j==0:\n",
    "        Q.append(L[:ind[j]])\n",
    "    else:\n",
    "        Q.append(L[ind[j-1]+1:ind[j]])\n",
    "#start=0\n",
    "#for end in ind:\n",
    "    #Q.append(start:end)\n",
    "    #start=end+1\n",
    "Q.append(L[ind[-1]+1:])\n",
    "       \n",
    "print(Q)"
   ]
  },
  {
   "cell_type": "code",
   "execution_count": 9,
   "metadata": {},
   "outputs": [
    {
     "data": {
      "text/plain": [
       "2"
      ]
     },
     "execution_count": 9,
     "metadata": {},
     "output_type": "execute_result"
    }
   ],
   "source": [
    "L.index(3,2)"
   ]
  },
  {
   "cell_type": "code",
   "execution_count": null,
   "metadata": {},
   "outputs": [],
   "source": []
  }
 ],
 "metadata": {
  "kernelspec": {
   "display_name": "Python 3 (ipykernel)",
   "language": "python",
   "name": "python3"
  },
  "language_info": {
   "codemirror_mode": {
    "name": "ipython",
    "version": 3
   },
   "file_extension": ".py",
   "mimetype": "text/x-python",
   "name": "python",
   "nbconvert_exporter": "python",
   "pygments_lexer": "ipython3",
   "version": "3.9.7"
  },
  "toc": {
   "colors": {
    "hover_highlight": "#DAA520",
    "navigate_num": "#000000",
    "navigate_text": "#333333",
    "running_highlight": "#FF0000",
    "selected_highlight": "#FFD700",
    "sidebar_border": "#EEEEEE",
    "wrapper_background": "#FFFFFF"
   },
   "moveMenuLeft": true,
   "nav_menu": {
    "height": "66px",
    "width": "252px"
   },
   "navigate_menu": true,
   "number_sections": true,
   "sideBar": true,
   "skip_h1_title": false,
   "threshold": 4,
   "toc_cell": false,
   "toc_position": {},
   "toc_section_display": "block",
   "toc_window_display": false,
   "widenNotebook": false
  }
 },
 "nbformat": 4,
 "nbformat_minor": 2
}
